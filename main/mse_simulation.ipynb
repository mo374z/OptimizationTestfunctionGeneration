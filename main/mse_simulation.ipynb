{
 "cells": [
  {
   "cell_type": "code",
   "execution_count": null,
   "metadata": {},
   "outputs": [],
   "source": [
    "import sys\n",
    "sys.path.append(\"../\")\n",
    "\n",
    "from utils.utils import plot_simulated_meshgrid, plot_collage\n",
    "import model\n",
    "import gt_sampling\n",
    "\n",
    "import numpy as np\n",
    "import torch\n",
    "import bbobtorch"
   ]
  },
  {
   "cell_type": "code",
   "execution_count": null,
   "metadata": {},
   "outputs": [],
   "source": [
    "# create ground truth functions\n",
    "n_dim = 2\n",
    "samples = 1000\n",
    "seed = 42\n",
    "\n",
    "torch.manual_seed(seed)\n",
    "problem_f01 = bbobtorch.create_f01(n_dim, seed=seed)\n",
    "# sampling from groundtruth functions\n",
    "sample_f01 = gt_sampling.get_sample(problem_f01, n_samples=samples, n_dim=2, seed=42, method='random')\n",
    "X_input = sample_f01[0]"
   ]
  },
  {
   "cell_type": "markdown",
   "metadata": {},
   "source": [
    "## Simulate the function with NN"
   ]
  },
  {
   "cell_type": "code",
   "execution_count": null,
   "metadata": {},
   "outputs": [],
   "source": [
    "input_dim = 2\n",
    "hidden_dim = 16\n",
    "hidden_layers = 8\n",
    "output_dim = 1\n",
    "\n",
    "learning_rate = 1e-4\n",
    "num_epochs = 1000\n",
    "\n",
    "m = model.NN1(input_dim, hidden_dim, hidden_layers)\n",
    "optimizer = torch.optim.SGD(m.parameters(), lr=learning_rate)\n",
    "criterion = torch.nn.MSELoss()\n",
    "y = bbobtorch.create_f01(2)(X_input)\n",
    "mean, std = y.mean(), y.std()\n",
    "# Training loop\n",
    "for epoch in range(num_epochs):\n",
    "    preds = m(X_input)\n",
    "    preds = preds * std + mean\n",
    "    Karloss = criterion(preds.flatten(), y.clone().detach().flatten())\n",
    "\n",
    "    # Backward and optimize\n",
    "    Karloss.backward()\n",
    "    optimizer.step()\n",
    "    optimizer.zero_grad()\n",
    "\n",
    "    if (epoch + 1) % 20 == 0:\n",
    "        print(f'Epoch [{epoch+1}/{num_epochs}], Loss: {Karloss.item():.4f}')"
   ]
  },
  {
   "cell_type": "code",
   "execution_count": null,
   "metadata": {},
   "outputs": [],
   "source": [
    "# generate mesh grid for plotting\n",
    "with torch.no_grad():\n",
    "    x = np.linspace(-5.0, 5.0, 100)\n",
    "    y = np.linspace(-5.0, 5.0, 100)\n",
    "    X, Y = np.meshgrid(x, y)\n",
    "    mesh_samples = np.c_[X.ravel(), Y.ravel()]\n",
    "    mesh_samples_tensor = torch.tensor(mesh_samples, dtype=torch.float32)\n",
    "    mesh_results = m(mesh_samples_tensor).reshape(X.shape)*std + mean\n",
    "    mesh_results = mesh_results.numpy()[:, ::-1]"
   ]
  },
  {
   "cell_type": "code",
   "execution_count": null,
   "metadata": {},
   "outputs": [],
   "source": [
    "plot_simulated_meshgrid(X, -Y, mesh_results, model='NN')"
   ]
  },
  {
   "cell_type": "code",
   "execution_count": null,
   "metadata": {},
   "outputs": [],
   "source": [
    "plot_collage(sample_f01[0].detach().numpy(), sample_f01[1].detach().numpy(), problem_f01, \"BBOB F24\", \"MSE-Simulator\", X, -Y, mesh_results);"
   ]
  },
  {
   "cell_type": "code",
   "execution_count": null,
   "metadata": {},
   "outputs": [],
   "source": [
    "sys.path.append(\"../\")\n",
    "torch.save(m.state_dict(), \"../models/f01_mse_nn_model.pt\")"
   ]
  },
  {
   "cell_type": "code",
   "execution_count": null,
   "metadata": {},
   "outputs": [],
   "source": []
  },
  {
   "cell_type": "code",
   "execution_count": null,
   "metadata": {},
   "outputs": [],
   "source": [
    "# create ground truth functions\n",
    "n_dim = 2\n",
    "samples = 1000\n",
    "seed = 42\n",
    "\n",
    "torch.manual_seed(seed)\n",
    "problem_f03 = bbobtorch.create_f03(n_dim, seed=seed)\n",
    "# sampling from groundtruth functions\n",
    "sample_f03 = gt_sampling.get_sample(problem_f03, n_samples=samples, n_dim=2, seed=42, method='random')\n",
    "X_input = sample_f03[0]"
   ]
  },
  {
   "cell_type": "markdown",
   "metadata": {},
   "source": [
    "## Simulate the function with NN"
   ]
  },
  {
   "cell_type": "code",
   "execution_count": null,
   "metadata": {},
   "outputs": [],
   "source": [
    "input_dim = 2\n",
    "hidden_dim = 16\n",
    "hidden_layers = 8\n",
    "output_dim = 1\n",
    "\n",
    "learning_rate = 1e-4\n",
    "num_epochs = 1000\n",
    "\n",
    "m = model.NN1(input_dim, hidden_dim, hidden_layers)\n",
    "optimizer = torch.optim.SGD(m.parameters(), lr=learning_rate)\n",
    "criterion = torch.nn.MSELoss()\n",
    "y = bbobtorch.create_f03(2)(X_input)\n",
    "mean, std = y.mean(), y.std()\n",
    "# Training loop\n",
    "for epoch in range(num_epochs):\n",
    "    preds = m(X_input)\n",
    "    preds = preds * std + mean\n",
    "    Karloss = criterion(preds.flatten(), y.clone().detach().flatten())\n",
    "\n",
    "    # Backward and optimize\n",
    "    Karloss.backward()\n",
    "    optimizer.step()\n",
    "    optimizer.zero_grad()\n",
    "\n",
    "    if (epoch + 1) % 20 == 0:\n",
    "        print(f'Epoch [{epoch+1}/{num_epochs}], Loss: {Karloss.item():.4f}')"
   ]
  },
  {
   "cell_type": "code",
   "execution_count": null,
   "metadata": {},
   "outputs": [],
   "source": [
    "# generate mesh grid for plotting\n",
    "with torch.no_grad():\n",
    "    x = np.linspace(-5.0, 5.0, 100)\n",
    "    y = np.linspace(-5.0, 5.0, 100)\n",
    "    X, Y = np.meshgrid(x, y)\n",
    "    mesh_samples = np.c_[X.ravel(), Y.ravel()]\n",
    "    mesh_samples_tensor = torch.tensor(mesh_samples, dtype=torch.float32)\n",
    "    mesh_results = m(mesh_samples_tensor).reshape(X.shape)*std + mean\n",
    "    mesh_results = mesh_results.numpy()[:, ::-1]"
   ]
  },
  {
   "cell_type": "code",
   "execution_count": null,
   "metadata": {},
   "outputs": [],
   "source": [
    "plot_simulated_meshgrid(X, -Y, mesh_results, model='NN')"
   ]
  },
  {
   "cell_type": "code",
   "execution_count": null,
   "metadata": {},
   "outputs": [],
   "source": [
    "plot_collage(sample_f01[0].detach().numpy(), sample_f01[1].detach().numpy(), problem_f01, \"BBOB F03\", \"MSE-Simulator\", X, -Y, mesh_results);"
   ]
  },
  {
   "cell_type": "code",
   "execution_count": null,
   "metadata": {},
   "outputs": [],
   "source": [
    "sys.path.append(\"../\")\n",
    "torch.save(m.state_dict(), \"../models/f03_mse_nn_model.pt\")"
   ]
  },
  {
   "cell_type": "code",
   "execution_count": null,
   "metadata": {},
   "outputs": [],
   "source": []
  },
  {
   "cell_type": "code",
   "execution_count": null,
   "metadata": {},
   "outputs": [],
   "source": [
    "# create ground truth functions\n",
    "n_dim = 2\n",
    "samples = 1000\n",
    "seed = 42\n",
    "\n",
    "torch.manual_seed(seed)\n",
    "problem_f24 = bbobtorch.create_f24(n_dim, seed=seed)\n",
    "# sampling from groundtruth functions\n",
    "sample_f24 = gt_sampling.get_sample(problem_f24, n_samples=samples, n_dim=2, seed=42, method='random')\n",
    "X_input = sample_f24[0]"
   ]
  },
  {
   "cell_type": "markdown",
   "metadata": {},
   "source": [
    "## Simulate the function with NN"
   ]
  },
  {
   "cell_type": "code",
   "execution_count": null,
   "metadata": {},
   "outputs": [],
   "source": [
    "input_dim = 2\n",
    "hidden_dim = 16\n",
    "hidden_layers = 8\n",
    "output_dim = 1\n",
    "\n",
    "learning_rate = 1e-4\n",
    "num_epochs = 1000\n",
    "\n",
    "m = model.NN1(input_dim, hidden_dim, hidden_layers)\n",
    "optimizer = torch.optim.SGD(m.parameters(), lr=learning_rate)\n",
    "criterion = torch.nn.MSELoss()\n",
    "y = bbobtorch.create_f24(2)(X_input)\n",
    "mean, std = y.mean(), y.std()\n",
    "# Training loop\n",
    "for epoch in range(num_epochs):\n",
    "    preds = m(X_input)\n",
    "    preds = preds * std + mean\n",
    "    Karloss = criterion(preds.flatten(), y.clone().detach().flatten())\n",
    "\n",
    "    # Backward and optimize\n",
    "    Karloss.backward()\n",
    "    optimizer.step()\n",
    "    optimizer.zero_grad()\n",
    "\n",
    "    if (epoch + 1) % 20 == 0:\n",
    "        print(f'Epoch [{epoch+1}/{num_epochs}], Loss: {Karloss.item():.4f}')"
   ]
  },
  {
   "cell_type": "code",
   "execution_count": null,
   "metadata": {},
   "outputs": [],
   "source": [
    "# generate mesh grid for plotting\n",
    "with torch.no_grad():\n",
    "    x = np.linspace(-5.0, 5.0, 100)\n",
    "    y = np.linspace(-5.0, 5.0, 100)\n",
    "    X, Y = np.meshgrid(x, y)\n",
    "    mesh_samples = np.c_[X.ravel(), Y.ravel()]\n",
    "    mesh_samples_tensor = torch.tensor(mesh_samples, dtype=torch.float32)\n",
    "    mesh_results = m(mesh_samples_tensor).reshape(X.shape)*std + mean\n",
    "    mesh_results = mesh_results.numpy()[:, ::-1]"
   ]
  },
  {
   "cell_type": "code",
   "execution_count": null,
   "metadata": {},
   "outputs": [],
   "source": [
    "plot_simulated_meshgrid(X, -Y, mesh_results, model='NN')"
   ]
  },
  {
   "cell_type": "code",
   "execution_count": null,
   "metadata": {},
   "outputs": [],
   "source": [
    "plot_collage(sample_f01[0].detach().numpy(), sample_f01[1].detach().numpy(), problem_f01, \"BBOB F24\", \"MSE-Simulator\", X, -Y, mesh_results);"
   ]
  },
  {
   "cell_type": "code",
   "execution_count": null,
   "metadata": {},
   "outputs": [],
   "source": [
    "sys.path.append(\"../\")\n",
    "torch.save(m.state_dict(), \"../models/f24_mse_nn_model.pt\")"
   ]
  },
  {
   "cell_type": "code",
   "execution_count": null,
   "metadata": {},
   "outputs": [],
   "source": []
  }
 ],
 "metadata": {
  "kernelspec": {
   "display_name": "CudaEnv",
   "language": "python",
   "name": "python3"
  },
  "language_info": {
   "codemirror_mode": {
    "name": "ipython",
    "version": 3
   },
   "file_extension": ".py",
   "mimetype": "text/x-python",
   "name": "python",
   "nbconvert_exporter": "python",
   "pygments_lexer": "ipython3",
   "version": "3.10.9"
  },
  "orig_nbformat": 4
 },
 "nbformat": 4,
 "nbformat_minor": 2
}
