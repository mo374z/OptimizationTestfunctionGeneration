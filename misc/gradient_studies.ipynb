{
 "cells": [
  {
   "cell_type": "code",
   "execution_count": 2,
   "metadata": {},
   "outputs": [
    {
     "ename": "ModuleNotFoundError",
     "evalue": "No module named 'gt_sampling'",
     "output_type": "error",
     "traceback": [
      "\u001b[1;31m---------------------------------------------------------------------------\u001b[0m",
      "\u001b[1;31mModuleNotFoundError\u001b[0m                       Traceback (most recent call last)",
      "Cell \u001b[1;32mIn[2], line 10\u001b[0m\n\u001b[0;32m      8\u001b[0m \u001b[39mimport\u001b[39;00m \u001b[39mtime\u001b[39;00m\n\u001b[0;32m      9\u001b[0m \u001b[39mimport\u001b[39;00m \u001b[39mbbobtorch\u001b[39;00m\n\u001b[1;32m---> 10\u001b[0m \u001b[39mimport\u001b[39;00m \u001b[39mgt_sampling\u001b[39;00m\n",
      "\u001b[1;31mModuleNotFoundError\u001b[0m: No module named 'gt_sampling'"
     ]
    }
   ],
   "source": [
    "import torch as torch\n",
    "import numpy as np\n",
    "import matplotlib.pyplot as plt\n",
    "import pandas as pd\n",
    "import seaborn as sns\n",
    "import os\n",
    "import sys\n",
    "\n",
    "sys.path.append('../')\n",
    "import time\n",
    "import bbobtorch\n",
    "import gt_sampling\n",
    "\n"
   ]
  },
  {
   "cell_type": "code",
   "execution_count": null,
   "metadata": {},
   "outputs": [
    {
     "name": "stdout",
     "output_type": "stream",
     "text": [
      "tensor(72., grad_fn=<MulBackward0>)\n"
     ]
    }
   ],
   "source": [
    "import torch\n",
    "\n",
    "def example_function(x):\n",
    "    return x**4\n",
    "\n",
    "def higher_order_derivative(f, wrt, n):\n",
    "    if n == 0:\n",
    "        return f\n",
    "    else:\n",
    "        grads = torch.autograd.grad(f, wrt, create_graph=True)[0]\n",
    "        return higher_order_derivative(grads, wrt, n-1)\n",
    "\n",
    "wrt = torch.tensor(3., requires_grad=True)\n",
    "n = 3  # Change this to the desired order of derivative\n",
    "result = higher_order_derivative(example_function(wrt), wrt, n)\n",
    "print(result)\n"
   ]
  },
  {
   "cell_type": "code",
   "execution_count": null,
   "metadata": {},
   "outputs": [],
   "source": [
    "\n",
    "# custom loss for derivatives of order n\n",
    "def higher_order_derivatives(f, wrt, n):\n",
    "    derivatives = [f.sum()]\n",
    "    for f_ in f:    \n",
    "        for _ in range(n):\n",
    "            grads = torch.autograd.grad(f_, wrt, create_graph=True)[0]\n",
    "            derivatives.append(grads.sum())\n",
    "            f = grads.sum()\n",
    "    \n",
    "    return torch.stack(derivatives)"
   ]
  },
  {
   "cell_type": "code",
   "execution_count": null,
   "metadata": {},
   "outputs": [],
   "source": [
    "class KnollHaZeHei(torch.nn.Module):\n",
    "    def __init__(self, diff_degree, criterion):\n",
    "        super().__init__()\n",
    "        self.diff_degree = diff_degree\n",
    "        self.criterion = criterion\n",
    "\n",
    "    def forward(self, pred, true, x):\n",
    "        pred = higher_order_derivatives(pred, x, self.diff_degree)\n",
    "        true = higher_order_derivatives(true, x, self.diff_degree)\n",
    "        return self.criterion(pred, true)\n"
   ]
  },
  {
   "cell_type": "code",
   "execution_count": null,
   "metadata": {},
   "outputs": [
    {
     "name": "stdout",
     "output_type": "stream",
     "text": [
      "tensor([-4., -9., -9., -9., -9., -9., -9.], grad_fn=<StackBackward0>)\n"
     ]
    }
   ],
   "source": [
    "import torch\n",
    "\n",
    "def example_function(x):\n",
    "    return 3*x**7-5*x**6\n",
    "\n",
    "\n",
    "\n",
    "wrt = 1.\n",
    "n = 3  # Change this to the desired order of derivative\n",
    "wrt = torch.tensor([wrt, wrt], requires_grad=True)\n",
    "f = example_function(wrt)\n",
    "all_derivatives = higher_order_derivatives(f, wrt, n)\n",
    "print(all_derivatives)\n"
   ]
  },
  {
   "cell_type": "code",
   "execution_count": null,
   "metadata": {},
   "outputs": [
    {
     "name": "stdout",
     "output_type": "stream",
     "text": [
      "tensor(1687.6000, grad_fn=<MseLossBackward0>)\n"
     ]
    }
   ],
   "source": [
    "# test\n",
    "crit = KnollHaZeHei(2, torch.nn.MSELoss())\n",
    "x = torch.tensor([3., 4], requires_grad=True)\n",
    "target = x**2\n",
    "pred = x**3\n",
    "\n",
    "loss = crit(pred, target, x)\n",
    "\n",
    "print(loss)"
   ]
  },
  {
   "cell_type": "code",
   "execution_count": null,
   "metadata": {},
   "outputs": [
    {
     "name": "stderr",
     "output_type": "stream",
     "text": [
      "c:\\Users\\Pascal\\DataScience\\Anaconda\\envs\\MachineLearningProject\\lib\\site-packages\\bbobtorch\\utils.py:44: UserWarning: torch.qr is deprecated in favor of torch.linalg.qr and will be removed in a future PyTorch release.\n",
      "The boolean parameter 'some' has been replaced with a string parameter 'mode'.\n",
      "Q, R = torch.qr(A, some)\n",
      "should be replaced with\n",
      "Q, R = torch.linalg.qr(A, 'reduced' if some else 'complete') (Triggered internally at  ..\\aten\\src\\ATen\\native\\BatchLinearAlgebra.cpp:2497.)\n",
      "  R, _ = t.qr(R)\n"
     ]
    }
   ],
   "source": [
    "# create ground truth functions\n",
    "n_dim = 2\n",
    "samples = 1000\n",
    "seed = 42\n",
    "\n",
    "def create_problem(f_number, n_dim, seed):\n",
    "    if f_number == 1:\n",
    "        problem = bbobtorch.create_f01(n_dim, seed=seed)\n",
    "    elif f_number == 3:\n",
    "        problem = bbobtorch.create_f03(n_dim, seed=seed)\n",
    "    elif f_number == 24:\n",
    "        problem = bbobtorch.create_f24(n_dim, seed=seed)\n",
    "\n",
    "    return problem\n",
    "\n",
    "problem_f01 = create_problem(1, n_dim, seed)\n",
    "problem_f03 = create_problem(3, n_dim, seed)\n",
    "problem_f24 = create_problem(24, n_dim, seed)"
   ]
  },
  {
   "cell_type": "code",
   "execution_count": null,
   "metadata": {},
   "outputs": [
    {
     "ename": "NameError",
     "evalue": "name 'gt_sampling' is not defined",
     "output_type": "error",
     "traceback": [
      "\u001b[1;31m---------------------------------------------------------------------------\u001b[0m",
      "\u001b[1;31mNameError\u001b[0m                                 Traceback (most recent call last)",
      "Cell \u001b[1;32mIn[14], line 2\u001b[0m\n\u001b[0;32m      1\u001b[0m \u001b[39m# sampling from groundtruth functions\u001b[39;00m\n\u001b[1;32m----> 2\u001b[0m sample_f01 \u001b[39m=\u001b[39m gt_sampling\u001b[39m.\u001b[39mget_sample(problem_f01, n_samples\u001b[39m=\u001b[39msamples, n_dim\u001b[39m=\u001b[39m\u001b[39m2\u001b[39m, seed\u001b[39m=\u001b[39m\u001b[39m42\u001b[39m, method\u001b[39m=\u001b[39m\u001b[39m'\u001b[39m\u001b[39mrandom\u001b[39m\u001b[39m'\u001b[39m, )\n\u001b[0;32m      3\u001b[0m \u001b[39m# sample_f03 = gt_sampling.get_sample(problem_f03, n_samples=samples, n_dim=2, seed=42, method='random', requires_grad=True)\u001b[39;00m\n\u001b[0;32m      4\u001b[0m \u001b[39m# sample_f24 = gt_sampling.get_sample(problem_f24, n_samples=samples, n_dim=2, seed=42, method='random', requires_grad=True)\u001b[39;00m\n",
      "\u001b[1;31mNameError\u001b[0m: name 'gt_sampling' is not defined"
     ]
    }
   ],
   "source": [
    "# sampling from groundtruth functions\n",
    "sample_f01 = gt_sampling.get_sample(problem_f01, n_samples=samples, n_dim=2, seed=42, method='random', )\n",
    "# sample_f03 = gt_sampling.get_sample(problem_f03, n_samples=samples, n_dim=2, seed=42, method='random', requires_grad=True)\n",
    "# sample_f24 = gt_sampling.get_sample(problem_f24, n_samples=samples, n_dim=2, seed=42, method='random', requires_grad=True)"
   ]
  },
  {
   "cell_type": "code",
   "execution_count": null,
   "metadata": {},
   "outputs": [],
   "source": []
  }
 ],
 "metadata": {
  "kernelspec": {
   "display_name": "MachineLearningProject",
   "language": "python",
   "name": "python3"
  },
  "language_info": {
   "codemirror_mode": {
    "name": "ipython",
    "version": 3
   },
   "file_extension": ".py",
   "mimetype": "text/x-python",
   "name": "python",
   "nbconvert_exporter": "python",
   "pygments_lexer": "ipython3",
   "version": "3.10.0"
  },
  "orig_nbformat": 4
 },
 "nbformat": 4,
 "nbformat_minor": 2
}
