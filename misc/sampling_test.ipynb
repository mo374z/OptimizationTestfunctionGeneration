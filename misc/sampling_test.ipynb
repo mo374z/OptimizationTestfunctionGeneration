{
 "cells": [
  {
   "cell_type": "code",
   "execution_count": 1,
   "metadata": {},
   "outputs": [],
   "source": [
    "import matplotlib.pyplot as plt\n",
    "import numpy as np\n",
    "import torch\n",
    "import bbobtorch"
   ]
  },
  {
   "cell_type": "code",
   "execution_count": 32,
   "metadata": {},
   "outputs": [],
   "source": [
    "n_dim = 2\n",
    "n_samples = 1000\n",
    "f_number = 24\n",
    "seed = 33"
   ]
  },
  {
   "cell_type": "code",
   "execution_count": 33,
   "metadata": {},
   "outputs": [],
   "source": [
    "if f_number == 1:\n",
    "    problem = bbobtorch.create_f01(n_dim, seed=seed)\n",
    "elif f_number == 3:\n",
    "    problem = bbobtorch.create_f03(n_dim, seed=seed)\n",
    "elif f_number == 24:\n",
    "    problem = bbobtorch.create_f24(n_dim, seed=seed)\n",
    "else:\n",
    "    raise ValueError('We only use BBOB functions be 1, 3 and 24')"
   ]
  },
  {
   "cell_type": "code",
   "execution_count": 34,
   "metadata": {},
   "outputs": [],
   "source": [
    "def plot_groundtruth(problem, xlim=(0,8), step=0.01):\n",
    "    x = torch.arange(xlim[0], xlim[1], step, dtype=torch.float32)\n",
    "    grid = torch.stack(torch.meshgrid((x,)*n_dim), -1)\n",
    "    flat_grid = torch.reshape(grid, (-1,n_dim))\n",
    "    xgrid, ygrid = np.meshgrid(x.numpy(), x.numpy())\n",
    "\n",
    "    results = problem(flat_grid)\n",
    "    results_grid = torch.reshape(results, xgrid.shape) #- problem.f_opt\n",
    "\n",
    "    plt.figure(figsize=(6,6))\n",
    "    plt.pcolormesh(xgrid, ygrid, results_grid, cmap='inferno', shading='nearest')\n",
    "    plt.scatter(*problem.x_opt.tolist()[::-1], marker='x', c='r')\n",
    "    plt.show()"
   ]
  },
  {
   "cell_type": "code",
   "execution_count": 37,
   "metadata": {},
   "outputs": [],
   "source": [
    "plot_groundtruth(problem, xlim=(-10,10), step=0.001)"
   ]
  },
  {
   "cell_type": "code",
   "execution_count": null,
   "metadata": {},
   "outputs": [],
   "source": []
  }
 ],
 "metadata": {
  "kernelspec": {
   "display_name": "MachineLearningProject",
   "language": "python",
   "name": "python3"
  },
  "language_info": {
   "codemirror_mode": {
    "name": "ipython",
    "version": 3
   },
   "file_extension": ".py",
   "mimetype": "text/x-python",
   "name": "python",
   "nbconvert_exporter": "python",
   "pygments_lexer": "ipython3",
   "version": "3.10.0"
  },
  "orig_nbformat": 4
 },
 "nbformat": 4,
 "nbformat_minor": 2
}
